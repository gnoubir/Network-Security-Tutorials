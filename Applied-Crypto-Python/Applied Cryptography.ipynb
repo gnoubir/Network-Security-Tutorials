{
 "cells": [
  {
   "cell_type": "markdown",
   "metadata": {},
   "source": [
    "#  Tutorial of Applied Cryptography in Python\n",
    "\n",
    "#### Guevara Noubir, Amirali Sanatinia\n",
    "##### Northeastern University\n",
    "\n",
    "\n",
    "A great way to consolidate your understanding of cryptographic is to used them in practical settings. There are a number of crypto libraries in Python, (cryptography, pycrypto, m2crypto). This tutorial uses the cryptography.io. This library provides high level recipes and low level interfaces to common cryptographic algorithms such as symmetric ciphers, message digests, and key derivation functions. You can download the library from [here](https://cryptography.io/) and follow the instructions. You should be able to install the library using the following command: \n",
    "\n",
    "```bash\n",
    "pip install cryptography\n",
    "```\n",
    "\n",
    "Note that you need to have pip installed. To install pip, follow the instructions [here](https://pip.pypa.io/)\n",
    "\n",
    "*note: Each code block has extra imports, so that blocks would be independent runnable code*"
   ]
  },
  {
   "cell_type": "markdown",
   "metadata": {},
   "source": [
    "## Cyrptography.io\n",
    "Cryptography components are divided into different submodules. Following is a list of these submodules (not exhaustive)\n",
    "\n",
    "* Primitive Crypto Blocks (*cryptography.hazmat*)\n",
    " * Message Digest and Hashing algorithms (*cryptography.hazmat.primitives.hashes*)\n",
    " * Symmetric encryption algorithms (*cryptography.hazmat.primitives.ciphers*)\n",
    " * Asymmetric encryption algorithms (*cryptography.hazmat.primitives.asymmetric*)\n",
    "* X.509 Ecosystem (*cryptography.x509*)\n",
    "* Full high level crypto recipe (*cryptography.fernet*)\n",
    "\n",
    "\n",
    "## Hashing Algorithms\n",
    "\n",
    "As we discussed in class, the goal is to have a long message as input and produce an output which is much shorter called the hash or message digest. Furthermore, we want it to have properties such as pre-image, second preimage, and  collision resistance. *SHA* is a family of popular hash functions.\n",
    "\n",
    "\n",
    "### Note on MD5 and SHA-1\n",
    "\n",
    "MD5 and SHA-1 are considered insecure and **not to be used for security purposes**."
   ]
  },
  {
   "cell_type": "code",
   "execution_count": 13,
   "metadata": {},
   "outputs": [
    {
     "name": "stdout",
     "output_type": "stream",
     "text": [
      "You successfully imported the necessary packages\n"
     ]
    }
   ],
   "source": [
    "from cryptography.hazmat.backends import default_backend\n",
    "from cryptography.hazmat.primitives import hashes\n",
    "import base64\n",
    "print(\"You successfully imported the necessary packages\")"
   ]
  },
  {
   "cell_type": "code",
   "execution_count": 4,
   "metadata": {},
   "outputs": [
    {
     "name": "stdout",
     "output_type": "stream",
     "text": [
      "SHA256 32 256 b'2OMi/1VrbIqEin/Ihxcyo6uKjbBGhcDkNmlqcfWqggY='\n"
     ]
    }
   ],
   "source": [
    "digest = hashes.Hash(hashes.SHA256(), backend=default_backend())\n",
    "digest.update(b\"A Single Message or\")\n",
    "msg_digest = digest.finalize()\n",
    "print (\"SHA256\", len(msg_digest), len(msg_digest) * 8, base64.b64encode(msg_digest))"
   ]
  },
  {
   "cell_type": "markdown",
   "metadata": {},
   "source": [
    "#### You can also compute a digest one piece at a time."
   ]
  },
  {
   "cell_type": "code",
   "execution_count": 5,
   "metadata": {},
   "outputs": [
    {
     "name": "stdout",
     "output_type": "stream",
     "text": [
      "SHA256 32 256 b'2OMi/1VrbIqEin/Ihxcyo6uKjbBGhcDkNmlqcfWqggY='\n"
     ]
    }
   ],
   "source": [
    "digest = hashes.Hash(hashes.SHA256(), backend=default_backend())\n",
    "digest.update(b\"A Single \")\n",
    "digest.update(b\"Message or\")\n",
    "msg_digest = digest.finalize()# Notice the output size of the digest\n",
    "print (\"SHA256\", len(msg_digest), len(msg_digest) * 8, base64.b64encode(msg_digest))"
   ]
  },
  {
   "cell_type": "markdown",
   "metadata": {},
   "source": [
    "#### Note that both hashing methods result in the same digest. The advantage of the second method is that you can hash a very long message (e.g., a large file that cannot fit in memory) iteratively."
   ]
  },
  {
   "cell_type": "markdown",
   "metadata": {},
   "source": [
    "### SHA Family\n",
    "\n",
    "Secure Hash Algorithm (SHA) family, is a series of hashing algorithms. Ranging from SHA-0 to SHA-3. SHA-0 should never be used, it's strongly advised to move away from SHA-1 to SHA-2 and SHA-3. Recent research indicates that SHA-1 is insecure. Collision were demonstrated in 2017 (invalidating its use in digital signatures e.g., certificates). SHA-3 is the most recent version, published in 2015.\n",
    "\n",
    " * SHA-2: Digest size (224, 256, 384, or 512), Block size (512, 1024)\n",
    " * SHA-3: Digest size (224, 256, 384, 512), Block size (1600)"
   ]
  },
  {
   "cell_type": "code",
   "execution_count": 6,
   "metadata": {},
   "outputs": [
    {
     "name": "stdout",
     "output_type": "stream",
     "text": [
      "sha224 28 224\n",
      "b'WYm+UTU7ZMq4BAaX1+fwHRBtgt2KRE/ci+J1Zw=='\n",
      "sha256 32 256\n",
      "b'Wr+fCs2Rfq5Q9nUtnl1pV8tNxrzYIhzR+8TPdyWMLjg='\n",
      "sha384 48 384\n",
      "b'I121lIgEBkunsrznkTk8wvV1rYJT27CxN5w3vND36C9E+bUnfp/carfxDdgi6b0n'\n",
      "sha512 64 512\n",
      "b'NRJrp7SwnPeOgak1bffPaKtUfoboqWsmNtp/ybIyhgEtggqeuGvW+uZ5TBcTbQNDnlihqxKnHGtnFuDgN4iSEw=='\n",
      "sha3-256 32 256\n",
      "b'pCuIGHpBySzVrR8YMJZJ7au5LRy2HffNi7ND3iiJvp0='\n",
      "sha3-384 48 384\n",
      "b'HPxG7JCVo6eet418Ic+XYoV0w+IHWVaL8VJO6BKOOxRGJs8oT6+cm6SeSsVGFPlg'\n",
      "sha3-512 64 512\n",
      "b'Wg49aN2xp9t0mkeQAqAikPfuQ/3mnEA4XpoApkxnnbYim1aDacHhZpMi89ZH4ocf73WMr0cKMpPoVNNA2yDkZw=='\n"
     ]
    }
   ],
   "source": [
    "for _hash in [hashes.SHA224, hashes.SHA256, hashes.SHA384, hashes.SHA512, \n",
    "              hashes.SHA3_256, hashes.SHA3_384, hashes.SHA3_512]:\n",
    "    digest = hashes.Hash(_hash(), backend=default_backend())\n",
    "    digest.update(b\"Network\")\n",
    "    digest.update(b\"Security\")\n",
    "    msg_digest = digest.finalize()\n",
    "    # Notice the output size of the digest\n",
    "    print (_hash.name, len(msg_digest), len(msg_digest) * 8)\n",
    "    print (base64.b64encode(msg_digest))"
   ]
  },
  {
   "cell_type": "code",
   "execution_count": 7,
   "metadata": {},
   "outputs": [],
   "source": [
    "digest = hashes.Hash(hashes.SHA256(), backend=default_backend())\n",
    "digest.update(b\"Network\")\n",
    "digest.update(b\"Security\")\n",
    "msg_digest = digest.finalize()"
   ]
  },
  {
   "cell_type": "code",
   "execution_count": 8,
   "metadata": {},
   "outputs": [
    {
     "name": "stdout",
     "output_type": "stream",
     "text": [
      "b'Wr+fCs2Rfq5Q9nUtnl1pV8tNxrzYIhzR+8TPdyWMLjg='\n"
     ]
    }
   ],
   "source": [
    "print (base64.b64encode(msg_digest))"
   ]
  },
  {
   "cell_type": "code",
   "execution_count": 9,
   "metadata": {},
   "outputs": [],
   "source": [
    "digest = hashes.Hash(hashes.SHA256(), backend=default_backend())\n",
    "digest.update(b\"NetworkSecurity\")\n",
    "msg_digest = digest.finalize()"
   ]
  },
  {
   "cell_type": "code",
   "execution_count": 10,
   "metadata": {},
   "outputs": [
    {
     "name": "stdout",
     "output_type": "stream",
     "text": [
      "b'Wr+fCs2Rfq5Q9nUtnl1pV8tNxrzYIhzR+8TPdyWMLjg='\n"
     ]
    }
   ],
   "source": [
    "print (base64.b64encode(msg_digest))"
   ]
  },
  {
   "cell_type": "markdown",
   "metadata": {},
   "source": [
    "### Hash-based message authentication code (HMAC)\n",
    "\n",
    "HMAC is used for message authentications combined with a secret key. It provides integrity check and authentication.\n",
    "\n",
    "<img src=\"include/SHAhmac.png\">\n",
    "\n",
    "image source: wikipedia"
   ]
  },
  {
   "cell_type": "code",
   "execution_count": 11,
   "metadata": {},
   "outputs": [
    {
     "name": "stdout",
     "output_type": "stream",
     "text": [
      "sha224 28 224 b'XylYXsqFFBgSzfhQ5Wm/NXSEmPIzs2OXOwJq8g=='\n",
      "sha256 32 256 b'/fDakfamw90yjgwHYrQs8tSbehMHcE6H7dM9tXFT8s0='\n",
      "sha384 48 384 b'wWDThB7kIOMNbWOr6og3L8RHPo6TrDu4bUB9iXW1wGJAqp8TJDYNZtO/5sZdOkHQ'\n",
      "sha512 64 512 b'mYTaec9P/eVC/SN5fobLSvjkMwq5BWUdwS0khFoXyomCr6kk4bPIdrfd/ALlk3Dpm90T/xRpZX/iX5hwX6XqEQ=='\n"
     ]
    }
   ],
   "source": [
    "from cryptography.hazmat.backends import default_backend\n",
    "from cryptography.hazmat.primitives import hashes, hmac\n",
    "import os\n",
    "for _hash in [hashes.SHA224, hashes.SHA256, hashes.SHA384, hashes.SHA512]:\n",
    "    h = hmac.HMAC(os.urandom(16), _hash(), backend=default_backend())\n",
    "    h.update(b\"Network Security\")\n",
    "    msg_mac = h.finalize()\n",
    "    print (_hash.name, len(msg_mac), len(msg_mac) * 8, base64.b64encode(msg_mac))"
   ]
  },
  {
   "cell_type": "markdown",
   "metadata": {},
   "source": [
    "## Symmetric Encryption\n",
    "\n",
    "In the following we look at the symmetric encryption algorithms. In symmetric crpto, we use the same key for encryption and decryption. Therefore, the two parties needs to establish a secret key between them. It's up to 1000 times faster than asymmetric encryption.\n",
    "\n",
    "\n",
    "### Advanced Encryption Algorithm (AES)\n",
    "\n",
    "AES is based on Rijndael encryption algorithm, designed by Joan Daemen and Vincent Rijmen. It was one of the algorithms submitted to U.S. National Institute of Standards and Technology (NIST) to replace DES and 3DES. It was published in 1998 and accepted and standardized in 2001.\n",
    "\n",
    " * AES supports key sizes of 128/192/256 bits\n",
    " * Block size: 128 bit\n",
    " * It's iterative rather than Feistel cipher\n",
    " * Treats data in 4 groups of 4 bytes\n",
    " * Operates on an entire block in every round\n",
    " * Resistant against known attacks\n",
    " * Speed and code compactness on many CPUs\n",
    " * Rijndael block and key size vary between 128, 192, 256\n",
    " * However, in AES block size in 128\n",
    " * Number of rounds a function of key size\n",
    "  * 128 bits     10 rounds\n",
    "  * 192 bits     12 rounds\n",
    "  * 256 bits     14 rounds\n",
    "\n",
    " * Today most implementations use the CPU support (Intel AES-NI)"
   ]
  },
  {
   "cell_type": "markdown",
   "metadata": {
    "collapsed": true,
    "jupyter": {
     "outputs_hidden": true
    }
   },
   "source": [
    "### Block cipher mode of operation\n",
    "\n",
    "To encrypt messages of arbitrary size with block ciphers, we use the following algorithms, called the modes of operation. They define how to encrypt each block of the plaintext to produce the corresponding cipher text block. Some of these are complemetly insecure (ECB) and should not be used.\n",
    "\n",
    " * Electronic Codebook (ECB)\n",
    " * Cipher Block Chaining (CBC)\n",
    " * Cipher Feedback (CFB)\n",
    " * Output Feedback (OFB)\n",
    " * Counter (CTR)\n",
    " * Galois Counter Mode (GCM)\n",
    " \n",
    " \n",
    "### Electronic Codebook (ECB)\n",
    "\n",
    "<img src=\"include/ECB_enc.png\">\n",
    "<img src=\"include/ECB_dec.png\">\n",
    "\n",
    "\n",
    "\n",
    "### Cipher Block Chaining (CBC)\n",
    "\n",
    "<img src=\"include/CBC_enc.png\">\n",
    "<img src=\"include/CBC_dec.png\">\n",
    "\n",
    "\n",
    "\n",
    "### Counter (CTR)\n",
    "\n",
    "<img src=\"include/CTR_enc.png\">\n",
    "<img src=\"include/CTR_dec.png\">\n",
    "\n",
    "image source: wikipedia\n",
    "\n",
    "The following images are encrypted with ECB. Note that you can see the pattern in the data. Therefore, ECB is not secure or recommended to be used.\n",
    "\n",
    "<img src=\"include/tux.png\">   <img src=\"include/ECB1.png\">   <img src=\"include/ECB2.png\">"
   ]
  },
  {
   "cell_type": "code",
   "execution_count": 12,
   "metadata": {},
   "outputs": [],
   "source": [
    "import os\n",
    "from cryptography.hazmat.primitives.ciphers import Cipher, algorithms, modes\n",
    "from cryptography.hazmat.backends import default_backend\n",
    "key = os.urandom(16) # in bytes, 128 bits\n",
    "iv = os.urandom(16)"
   ]
  },
  {
   "cell_type": "code",
   "execution_count": 13,
   "metadata": {},
   "outputs": [
    {
     "name": "stdout",
     "output_type": "stream",
     "text": [
      "b'Nl2Oe0/11fDQb5SU82FdkPpRRb89QFrVP7KdgP48c0Y='\n"
     ]
    }
   ],
   "source": [
    "# ECB Mode, we only need a key\n",
    "### *** DO NOT ECB. IT IS INSECURE *** ###\n",
    "\n",
    "cipher = Cipher(algorithms.AES(key), modes.ECB(), backend=default_backend())\n",
    "encryptor = cipher.encryptor()\n",
    "# note that we don't need padding here, since len(\"Network Security\") = 16\n",
    "cipher_text = encryptor.update(b\"Network Security1234567890123456\") + encryptor.finalize()\n",
    "print (base64.b64encode(cipher_text))"
   ]
  },
  {
   "cell_type": "markdown",
   "metadata": {},
   "source": [
    "###### cipher = Cipher(algorithms.AES(key), modes.ECB(), backend=default_backend())\n",
    "encryptor = cipher.encryptor()\n",
    "ct1 = encryptor.update(\"Network Security1234567890123457\")\n",
    "encryptor.finalize()\n",
    "print base64.b64encode(ct1)"
   ]
  },
  {
   "cell_type": "code",
   "execution_count": 14,
   "metadata": {},
   "outputs": [
    {
     "data": {
      "text/plain": [
       "b'Network Security1234567890123456'"
      ]
     },
     "execution_count": 14,
     "metadata": {},
     "output_type": "execute_result"
    }
   ],
   "source": [
    "decryptor = cipher.decryptor()\n",
    "decryptor.update(cipher_text) + decryptor.finalize()"
   ]
  },
  {
   "cell_type": "code",
   "execution_count": 15,
   "metadata": {},
   "outputs": [
    {
     "name": "stdout",
     "output_type": "stream",
     "text": [
      "b'Network Security: -\\r\\r\\r\\r\\r\\r\\r\\r\\r\\r\\r\\r\\r'\n",
      "b'Nl2Oe0/11fDQb5SU82FdkJA+dVso3dh31RUv28IvNQY='\n",
      "b'Network Security: -'\n"
     ]
    }
   ],
   "source": [
    "# padding\n",
    "# first import padding \n",
    "from cryptography.hazmat.primitives import padding\n",
    "\n",
    "padder = padding.PKCS7(128).padder()\n",
    "\n",
    "# pad the plaintext\n",
    "padded_data = padder.update(b\"Network Security: -\")\n",
    "padded_data += padder.finalize()\n",
    "\n",
    "print (padded_data)\n",
    "\n",
    "# encrypt \n",
    "cipher = Cipher(algorithms.AES(key), modes.ECB(), backend=default_backend())\n",
    "encryptor = cipher.encryptor()\n",
    "cipher_text = encryptor.update(padded_data) + encryptor.finalize()\n",
    "print (base64.b64encode(cipher_text))\n",
    "\n",
    "# decrypt\n",
    "decryptor = cipher.decryptor()\n",
    "padded_text = decryptor.update(cipher_text) + decryptor.finalize()\n",
    "\n",
    "#unpad\n",
    "unpadder = padding.PKCS7(128).unpadder()\n",
    "plain_text = unpadder.update(padded_text) + unpadder.finalize()\n",
    "print (plain_text)"
   ]
  },
  {
   "cell_type": "code",
   "execution_count": 16,
   "metadata": {},
   "outputs": [],
   "source": [
    "# CBC Mode, we also need an IV\n",
    "cipher = Cipher(algorithms.AES(key), modes.CBC(iv), backend=default_backend())\n",
    "encryptor = cipher.encryptor()\n",
    "# note that we don't need padding here, since len(\"Network Security\") = 16\n",
    "cipher_text = encryptor.update(b\"Network Security\") + encryptor.finalize()"
   ]
  },
  {
   "cell_type": "code",
   "execution_count": 17,
   "metadata": {},
   "outputs": [
    {
     "data": {
      "text/plain": [
       "b'6njU7KYqOvKKnXe7pTOzdQ=='"
      ]
     },
     "execution_count": 17,
     "metadata": {},
     "output_type": "execute_result"
    }
   ],
   "source": [
    "base64.b64encode(cipher_text)"
   ]
  },
  {
   "cell_type": "code",
   "execution_count": 18,
   "metadata": {},
   "outputs": [
    {
     "data": {
      "text/plain": [
       "b'Network Security'"
      ]
     },
     "execution_count": 18,
     "metadata": {},
     "output_type": "execute_result"
    }
   ],
   "source": [
    "decryptor = cipher.decryptor()\n",
    "decryptor.update(cipher_text) + decryptor.finalize()"
   ]
  },
  {
   "cell_type": "code",
   "execution_count": 19,
   "metadata": {},
   "outputs": [],
   "source": [
    "# GCM Mode, we also need an IV\n",
    "cipher = Cipher(algorithms.AES(key), modes.GCM(iv), backend=default_backend())\n",
    "encryptor = cipher.encryptor()\n",
    "# note that we don't need padding here, since len(\"Network Security\") = 16\n",
    "encryptor.authenticate_additional_data(b\"Only authenticate\")\n",
    "cipher_text = encryptor.update(b\"Network Security \") + encryptor.finalize()\n",
    "tag = encryptor.tag"
   ]
  },
  {
   "cell_type": "code",
   "execution_count": 20,
   "metadata": {},
   "outputs": [
    {
     "data": {
      "text/plain": [
       "b'1uX0ICwxQH1MoQq+vYcGTGc='"
      ]
     },
     "execution_count": 20,
     "metadata": {},
     "output_type": "execute_result"
    }
   ],
   "source": [
    "base64.b64encode(cipher_text)"
   ]
  },
  {
   "cell_type": "code",
   "execution_count": 21,
   "metadata": {},
   "outputs": [
    {
     "name": "stdout",
     "output_type": "stream",
     "text": [
      "b'Network Security '\n"
     ]
    }
   ],
   "source": [
    "decryptor = Cipher(algorithms.AES(key), modes.GCM(iv,tag), backend=default_backend()).decryptor()\n",
    "decryptor.authenticate_additional_data(b\"Only authenticate\")\n",
    "decrypted_plain_text = decryptor.update(cipher_text) + decryptor.finalize()\n",
    "print(decrypted_plain_text)"
   ]
  },
  {
   "cell_type": "code",
   "execution_count": 22,
   "metadata": {},
   "outputs": [],
   "source": [
    "# CTR Mode, we don't need padding in CTR mode. In transforms a block cipher into a stream cipher\n",
    "# we only need to introduce the nonce\n",
    "cipher = Cipher(algorithms.AES(key), modes.CTR(os.urandom(16)), backend=default_backend())\n",
    "encryptor = cipher.encryptor()\n",
    "# len(\"Network Security CS 6740\") = 25, but no padding is needed\n",
    "cipher_text = encryptor.update(b\"Network Security CS(6740)\") + encryptor.finalize()"
   ]
  },
  {
   "cell_type": "code",
   "execution_count": 23,
   "metadata": {},
   "outputs": [
    {
     "data": {
      "text/plain": [
       "b'RPXVGP2BYGgefM1GulGvG2qtkEXVEi6CuQ=='"
      ]
     },
     "execution_count": 23,
     "metadata": {},
     "output_type": "execute_result"
    }
   ],
   "source": [
    "base64.b64encode(cipher_text)"
   ]
  },
  {
   "cell_type": "code",
   "execution_count": 24,
   "metadata": {},
   "outputs": [
    {
     "data": {
      "text/plain": [
       "b'Network Security CS(6740)'"
      ]
     },
     "execution_count": 24,
     "metadata": {},
     "output_type": "execute_result"
    }
   ],
   "source": [
    "decryptor = cipher.decryptor()\n",
    "decryptor.update(cipher_text) + decryptor.finalize()"
   ]
  },
  {
   "cell_type": "markdown",
   "metadata": {},
   "source": [
    "## Asymmetric Encryption\n",
    "\n",
    "Asymmetric encryption mechanism use two different keys for encryption and decryption. Therefore, the two parties do not need to share a secret key between them.\n",
    "\n",
    "\n",
    "### RSA\n",
    "\n",
    "RSA, is an asymmetric encryption algorithm by Ron Rivest, Adi Shamir, and Leonard Adleman. It was published in 1977. It's security is inspired by the difficulty of factoring. It's hardness assumption is defined as the RSA problem. RSA is significantly slower that symmetric encryption algorithms, and is not used for encrypting large amounts of data. It is mostly used to encrypt the symmetric key that is used for encryption. The textbook RSA is as follows, but the secure way to encrypt a message requires additional protection e.g., using the OAEP mode.\n",
    "\n",
    "\n",
    " * $p, q$: two large prime numbers (private, chosen)\n",
    " * $n = pq, \\phi(n) = (p-1)(q-1)$   (public, calculated)\n",
    " * $e$, such that $\\gcd(\\phi(n), e) = 1,  1 < e < \\phi(n)$\t(public, chosen)\n",
    " * $d = e-1 mod \\phi(n)$\t(private, calculated)\n",
    " * $E(M) = M^e \\mod n$\n",
    " * $D(M) = M^d \\mod n$\n",
    " * $D(E(M)) = M^{ed} \\mod n = M$\n",
    " \n",
    " \n"
   ]
  },
  {
   "cell_type": "code",
   "execution_count": 25,
   "metadata": {},
   "outputs": [],
   "source": [
    "# Generate a 4096 bit private key\n",
    "from cryptography.hazmat.backends import default_backend\n",
    "from cryptography.hazmat.primitives.asymmetric import rsa\n",
    "\n",
    "private_key = rsa.generate_private_key(\n",
    "    public_exponent=65537,\n",
    "    key_size=4096,\n",
    "    backend=default_backend())\n",
    "# to get the public key\n",
    "public_key = private_key.public_key()"
   ]
  },
  {
   "cell_type": "markdown",
   "metadata": {},
   "source": [
    "<img src=\"include/RSA_OAEP.png\">\n",
    "\n",
    "image souce: wikipedia"
   ]
  },
  {
   "cell_type": "code",
   "execution_count": 26,
   "metadata": {},
   "outputs": [
    {
     "data": {
      "text/plain": [
       "b'BGVQo0XauJYc/2Qb1hW+EGUhlAp7uLKk/wwG2b75sUoevhrTAqrFVRo30jVcMK9MK6MIEON1ggU+RM40B2VKQGk9UtNgBPvi1/UzF5J0W/XelEaDlvzGskNCvasBEu9657GF97Ke+hq1US3LyzmFPpXmELNWDa1Zi8w+74TOmiCwK9CVYm3dk5+spbmTm24bkQX42eBq9qwM22l7wxtpb39xp++2b+MeU1EbABGCqnhAh9TKNFxn61ERoOTgRf/3mDLlA6v0dMyDXlz+NcK1m0HT3OkvgASeOtX5kGq3ka3+VtElmxOr7y7cZIs9XU4uhVIJRbEeUwmY84wdSwvNOEc//Pp3S3gpCsIGb/20R2rdY9Q1KQ6MZlxxKrlv6P6TelPSsqKgrJI6YOgVyOwTFfAEDtB71YyCCBxiM274f6wcb57u5kKktbZ243s99FcP12ASblNC04VEW8fqKWXDVKqIlxUbWz3BQV7VHRN7n0qotJp4mBypPjhoqVR5sEDlvFWVFGkQMxhjJTbqHarFet5qUXtnAOEOD1mtwUojr1Bo+BMMTunLZtg6RWqsQrqJtpPqLTg001DCleBOuiY7BFhUVyhkHN9lYDGTuFNmRS83ecp5hvwsD56yNA4xAJfkdcz/qu6WLqM0NuvakuB5I7EQYxe5A4OBwx2qT9YHIA8='"
      ]
     },
     "execution_count": 26,
     "metadata": {},
     "output_type": "execute_result"
    }
   ],
   "source": [
    "from cryptography.hazmat.backends import default_backend\n",
    "from cryptography.hazmat.primitives import hashes\n",
    "from cryptography.hazmat.primitives.asymmetric import padding\n",
    "\n",
    "message = b\"The SECRET MESSAGE\"\n",
    "ciphertext = public_key.encrypt(\n",
    "    message,\n",
    "    padding.OAEP(\n",
    "        mgf=padding.MGF1(algorithm=hashes.SHA512()),\n",
    "        algorithm=hashes.SHA512(),\n",
    "        label=None))\n",
    "base64.b64encode(ciphertext)"
   ]
  },
  {
   "cell_type": "code",
   "execution_count": 27,
   "metadata": {},
   "outputs": [
    {
     "data": {
      "text/plain": [
       "b'The SECRET MESSAGE'"
      ]
     },
     "execution_count": 27,
     "metadata": {},
     "output_type": "execute_result"
    }
   ],
   "source": [
    "from cryptography.hazmat.backends import default_backend\n",
    "from cryptography.hazmat.primitives import hashes\n",
    "from cryptography.hazmat.primitives.asymmetric import padding\n",
    "\n",
    "plaintext = private_key.decrypt(\n",
    "    ciphertext,\n",
    "    padding.OAEP(\n",
    "        mgf=padding.MGF1(algorithm=hashes.SHA512()),\n",
    "        algorithm=hashes.SHA512(),\n",
    "        label=None))\n",
    "plaintext"
   ]
  },
  {
   "cell_type": "code",
   "execution_count": 28,
   "metadata": {},
   "outputs": [
    {
     "data": {
      "text/plain": [
       "True"
      ]
     },
     "execution_count": 28,
     "metadata": {},
     "output_type": "execute_result"
    }
   ],
   "source": [
    "plaintext == message"
   ]
  },
  {
   "cell_type": "markdown",
   "metadata": {},
   "source": [
    "### RSA using OpenSSL\n",
    "\n",
    "To generate keys, use the following instructions:\n",
    "\n",
    "```bash\n",
    " openssl genrsa -out private_key.pem 2048\n",
    " openssl pkcs8 -topk8 -inform PEM -outform DER -in private_key.pem -out private_key.der -nocrypt\n",
    " openssl rsa -in private_key.pem -pubout -outform DER -out public_key.der\n",
    " ```\n",
    " "
   ]
  },
  {
   "cell_type": "code",
   "execution_count": 29,
   "metadata": {
    "scrolled": true
   },
   "outputs": [
    {
     "name": "stderr",
     "output_type": "stream",
     "text": [
      "writing RSA key\n"
     ]
    }
   ],
   "source": [
    "%%bash\n",
    "openssl genrsa -out private_key.pem 2048\n",
    "openssl pkcs8 -topk8 -inform PEM -outform DER -in private_key.pem -out private_key.der -nocrypt\n",
    "openssl rsa -in private_key.pem -pubout -outform DER -out public_key.der"
   ]
  },
  {
   "cell_type": "code",
   "execution_count": 32,
   "metadata": {},
   "outputs": [],
   "source": [
    "# import key from a file. E.g., previously generated by OpenSSL\n",
    "from cryptography.hazmat.backends import default_backend\n",
    "from cryptography.hazmat.primitives import serialization\n",
    "\n",
    "with open(\"private_key.pem\", \"rb\") as key_file:\n",
    "     private_key = serialization.load_pem_private_key(\n",
    "            key_file.read(),\n",
    "            password=None,\n",
    "            backend=default_backend())\n",
    "public_key = private_key.public_key()"
   ]
  },
  {
   "cell_type": "code",
   "execution_count": 33,
   "metadata": {},
   "outputs": [],
   "source": [
    "# import key from a file. E.g., previously generated by OpenSSL\n",
    "from cryptography.hazmat.backends import default_backend\n",
    "from cryptography.hazmat.primitives import serialization\n",
    "\n",
    "with open(\"private_key.der\", \"rb\") as key_file:\n",
    "     private_key = serialization.load_der_private_key(\n",
    "            key_file.read(),\n",
    "            password=None,\n",
    "            backend=default_backend())\n",
    "public_key = private_key.public_key()"
   ]
  },
  {
   "cell_type": "markdown",
   "metadata": {},
   "source": [
    "### Diffie-Hellman Key Exchange\n",
    " * https://cryptography.io/en/latest/hazmat/primitives/asymmetric/dh/"
   ]
  },
  {
   "cell_type": "code",
   "execution_count": 54,
   "metadata": {},
   "outputs": [],
   "source": [
    "from cryptography.hazmat.primitives import hashes\n",
    "from cryptography.hazmat.primitives.asymmetric import dh\n",
    "from cryptography.hazmat.primitives.kdf.hkdf import HKDF"
   ]
  },
  {
   "cell_type": "code",
   "execution_count": 44,
   "metadata": {},
   "outputs": [
    {
     "name": "stdout",
     "output_type": "stream",
     "text": [
      "2 1044388881413152506679602719846529545831269060992135009022588756444338172022322690710444046669809783930111585737890362691860127079270495454517218673016928427459146001866885779762982229321192368303346235204368051010309155674155697460347176946394076535157284994895284821633700921811716738972451834979455897010306333468590751358365138782250372269117968985194322444535687415522007151638638141456178420621277822674995027990278673458629544391736919766299005511505446177668154446234882665961680796576903199116089347634947187778906528008004756692571666922964122566174582776707332452371001272163776841229318324903125740713574141005124561965913888899753461735347970011693256316751660678950830027510255804846105583465055446615090444309583050775808509297040039680057435342253926566240898195863631588888936364129920059308455669454034010391478238784189888594672336242763795138176353222845524644040094258962433613354036104643881925238489224010194193088911666165584229424668165441688927790460608264864204237717002054744337988941974661214699689706521543006262604535890998125752275942608772174376107314217749233048217904944409836238235772306749874396760463376480215133461333478395682746608242585133953883882226786118030184028136755970045385534758453247\n"
     ]
    }
   ],
   "source": [
    "# One can use RFC 3526 to get some commonly used primes for DH\n",
    "P_1536 = int(\n",
    "    \"FFFFFFFFFFFFFFFFC90FDAA22168C234C4C6628B80DC1CD1\"\n",
    "    \"29024E088A67CC74020BBEA63B139B22514A08798E3404DD\"\n",
    "    \"EF9519B3CD3A431B302B0A6DF25F14374FE1356D6D51C245\"\n",
    "    \"E485B576625E7EC6F44C42E9A637ED6B0BFF5CB6F406B7ED\"\n",
    "    \"EE386BFB5A899FA5AE9F24117C4B1FE649286651ECE45B3D\"\n",
    "    \"C2007CB8A163BF0598DA48361C55D39A69163FA8FD24CF5F\"\n",
    "    \"83655D23DCA3AD961C62F356208552BB9ED529077096966D\"\n",
    "    \"670C354E4ABC9804F1746C08CA237327FFFFFFFFFFFFFFFF\",\n",
    "    16,\n",
    ")\n",
    "\n",
    "P_4096 = int (\n",
    "      \"FFFFFFFFFFFFFFFFC90FDAA22168C234C4C6628B80DC1CD1\"\n",
    "\"29024E088A67CC74020BBEA63B139B22514A08798E3404DD\"\n",
    "\"EF9519B3CD3A431B302B0A6DF25F14374FE1356D6D51C245\"\n",
    "\"E485B576625E7EC6F44C42E9A637ED6B0BFF5CB6F406B7ED\"\n",
    "\"EE386BFB5A899FA5AE9F24117C4B1FE649286651ECE45B3D\"\n",
    "\"C2007CB8A163BF0598DA48361C55D39A69163FA8FD24CF5F\"\n",
    "\"83655D23DCA3AD961C62F356208552BB9ED529077096966D\"\n",
    "\"670C354E4ABC9804F1746C08CA18217C32905E462E36CE3B\"\n",
    "\"E39E772C180E86039B2783A2EC07A28FB5C55DF06F4C52C9\"\n",
    "\"DE2BCBF6955817183995497CEA956AE515D2261898FA0510\"\n",
    "\"15728E5A8AAAC42DAD33170D04507A33A85521ABDF1CBA64\"\n",
    "\"ECFB850458DBEF0A8AEA71575D060C7DB3970F85A6E1E4C7\"\n",
    "\"ABF5AE8CDB0933D71E8C94E04A25619DCEE3D2261AD2EE6B\"\n",
    "\"F12FFA06D98A0864D87602733EC86A64521F2B18177B200C\"\n",
    "\"BBE117577A615D6C770988C0BAD946E208E24FA074E5AB31\"\n",
    "\"43DB5BFCE0FD108E4B82D120A92108011A723C12A787E6D7\"\n",
    "\"88719A10BDBA5B2699C327186AF4E23C1A946834B6150BDA\"\n",
    "\"2583E9CA2AD44CE8DBBBC2DB04DE8EF92E8EFC141FBECAA6\"\n",
    "\"287C59474E6BC05D99B2964FA090C3A2233BA186515BE7ED\"\n",
    "\"1F612970CEE2D7AFB81BDD762170481CD0069127D5B05AA9\"\n",
    "\"93B4EA988D8FDDC186FFB7DC90A6C08F4DF435C934063199\"\n",
    "\"FFFFFFFFFFFFFFFF\",16)\n",
    "\n",
    "pn = dh.DHParameterNumbers(P_4096,2)\n",
    "parameters = pn.parameters()\n",
    "print(parameters.parameter_numbers().g, parameters.parameter_numbers().p)"
   ]
  },
  {
   "cell_type": "code",
   "execution_count": null,
   "metadata": {},
   "outputs": [],
   "source": [
    "# Alternatively one can generate the DH parameters automatically\n",
    "## This can take a long time\n",
    "parameters = dh.generate_parameters(generator=2, key_size=4096)"
   ]
  },
  {
   "cell_type": "code",
   "execution_count": 45,
   "metadata": {},
   "outputs": [
    {
     "name": "stdout",
     "output_type": "stream",
     "text": [
      "2 1044388881413152506679602719846529545831269060992135009022588756444338172022322690710444046669809783930111585737890362691860127079270495454517218673016928427459146001866885779762982229321192368303346235204368051010309155674155697460347176946394076535157284994895284821633700921811716738972451834979455897010306333468590751358365138782250372269117968985194322444535687415522007151638638141456178420621277822674995027990278673458629544391736919766299005511505446177668154446234882665961680796576903199116089347634947187778906528008004756692571666922964122566174582776707332452371001272163776841229318324903125740713574141005124561965913888899753461735347970011693256316751660678950830027510255804846105583465055446615090444309583050775808509297040039680057435342253926566240898195863631588888936364129920059308455669454034010391478238784189888594672336242763795138176353222845524644040094258962433613354036104643881925238489224010194193088911666165584229424668165441688927790460608264864204237717002054744337988941974661214699689706521543006262604535890998125752275942608772174376107314217749233048217904944409836238235772306749874396760463376480215133461333478395682746608242585133953883882226786118030184028136755970045385534758453247\n"
     ]
    }
   ],
   "source": [
    "print(parameters.parameter_numbers().g, parameters.parameter_numbers().p)"
   ]
  },
  {
   "cell_type": "code",
   "execution_count": 46,
   "metadata": {},
   "outputs": [],
   "source": [
    "# Generate a private key for A for use in the exchange.\n",
    "private_key = parameters.generate_private_key()"
   ]
  },
  {
   "cell_type": "code",
   "execution_count": 47,
   "metadata": {},
   "outputs": [],
   "source": [
    "# Typically the peer public key is received from peer. Here we will generate it ourselves.\n",
    "peer_public_key = parameters.generate_private_key().public_key()\n"
   ]
  },
  {
   "cell_type": "code",
   "execution_count": 48,
   "metadata": {},
   "outputs": [],
   "source": [
    "# Compute the DH key\n",
    "shared_key = private_key.exchange(peer_public_key)\n",
    "\n",
    "# Perform key derivation.\n",
    "derived_key = HKDF(\n",
    "    algorithm=hashes.SHA256(),\n",
    "    length=32,\n",
    "    salt=None,\n",
    "    info=b'handshake data',\n",
    ").derive(shared_key)"
   ]
  },
  {
   "cell_type": "code",
   "execution_count": 52,
   "metadata": {},
   "outputs": [
    {
     "name": "stdout",
     "output_type": "stream",
     "text": [
      "b'j3U5Ejw7doo6Dcr3cmpXi1w07rZPfi4g4U26GC2OhKc='\n"
     ]
    }
   ],
   "source": [
    "# For the next handshake we MUST generate another private key, but\n",
    "# we can reuse the parameters.\n",
    "private_key_2 = parameters.generate_private_key()\n",
    "peer_public_key_2 = parameters.generate_private_key().public_key()\n",
    "shared_key_2 = private_key_2.exchange(peer_public_key_2)\n",
    "derived_key_2 = HKDF(\n",
    "    algorithm=hashes.SHA256(),\n",
    "    length=32,\n",
    "    salt=None,\n",
    "    info=b'handshake data',\n",
    ").derive(shared_key_2)\n",
    "\n",
    "print(base64.b64encode(derived_key_2))"
   ]
  },
  {
   "cell_type": "markdown",
   "metadata": {},
   "source": [
    "### Elliptic Curve Cryptography: Signatures\n",
    " * Ed25519 is an elliptic curve signing algorithm using EdDSA and Curve25519"
   ]
  },
  {
   "cell_type": "code",
   "execution_count": 58,
   "metadata": {},
   "outputs": [
    {
     "name": "stdout",
     "output_type": "stream",
     "text": [
      "None\n"
     ]
    }
   ],
   "source": [
    "from cryptography.hazmat.primitives.asymmetric.ed25519 import Ed25519PrivateKey\n",
    "private_key = Ed25519PrivateKey.generate()\n",
    "signature = private_key.sign(b\"my authenticated message\")\n",
    "public_key = private_key.public_key()\n",
    "# Raises InvalidSignature if verification fails\n",
    "public_key.verify(signature, b\"my authenticated message\")"
   ]
  },
  {
   "cell_type": "markdown",
   "metadata": {},
   "source": [
    "## Using JSON"
   ]
  },
  {
   "cell_type": "code",
   "execution_count": 30,
   "metadata": {},
   "outputs": [
    {
     "name": "stdout",
     "output_type": "stream",
     "text": [
      "{\"name\": \"GN\", \"languages\": [\"English\", \"French\"]}\n",
      "GN\n",
      "{\"name\": \"MDE3Nw==\", \"languages\": [\"English\", \"French\"]}\n",
      "b'0177'\n"
     ]
    }
   ],
   "source": [
    "# You can load and dump json objects\n",
    "import json\n",
    "person = '{\"name\": \"\", \"languages\": [\"English\", \"French\"]}'\n",
    "person_dict = json.loads(person)\n",
    "person_dict[\"name\"] = \"GN\" \n",
    "j = json.dumps(person_dict)\n",
    "print(j)\n",
    "l = json.loads(j)\n",
    "print(l[\"name\"])\n",
    "\n",
    "# You can set fields to bytes object after encoding them for instance using base64\n",
    "n = base64.b64encode(b\"0177\")\n",
    "person_dict[\"name\"] = n.decode()\n",
    "j = json.dumps(person_dict)\n",
    "print(j)\n",
    "l = json.loads(j)\n",
    "print(base64.b64decode(l[\"name\"]))\n",
    "\n"
   ]
  },
  {
   "cell_type": "code",
   "execution_count": null,
   "metadata": {},
   "outputs": [],
   "source": []
  },
  {
   "cell_type": "code",
   "execution_count": null,
   "metadata": {},
   "outputs": [],
   "source": []
  }
 ],
 "metadata": {
  "kernelspec": {
   "display_name": "Python 3 (ipykernel)",
   "language": "python",
   "name": "python3"
  },
  "language_info": {
   "codemirror_mode": {
    "name": "ipython",
    "version": 3
   },
   "file_extension": ".py",
   "mimetype": "text/x-python",
   "name": "python",
   "nbconvert_exporter": "python",
   "pygments_lexer": "ipython3",
   "version": "3.11.5"
  }
 },
 "nbformat": 4,
 "nbformat_minor": 4
}
